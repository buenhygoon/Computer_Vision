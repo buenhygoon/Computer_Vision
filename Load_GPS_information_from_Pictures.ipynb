{
 "cells": [
  {
   "cell_type": "markdown",
   "metadata": {},
   "source": [
    "# Camino de santiago\n",
    "* date : April 4 2017. ~ May 9 2017\n",
    "* St. Jean Pied de Port ~ Santiago de Compostela.\n",
    "* Santiago de Compostela ~ Fisterra"
   ]
  },
  {
   "cell_type": "code",
   "execution_count": 12,
   "metadata": {},
   "outputs": [
    {
     "name": "stdout",
     "output_type": "stream",
     "text": [
      "Using matplotlib backend: MacOSX\n"
     ]
    }
   ],
   "source": [
    "import os\n",
    "from glob import glob\n",
    "import sys\n",
    "import pickle\n",
    "from datetime import datetime\n",
    "\n",
    "\n",
    "\n",
    "from pyicloud import PyiCloudService\n",
    "\n",
    "from PIL import Image\n",
    "from PIL.ExifTags import TAGS\n",
    "\n",
    "import pandas as pd\n",
    "\n",
    "import numpy as np\n",
    "\n",
    "import folium\n",
    "import gmaps\n",
    "import googlemaps\n",
    "\n",
    "from IPython.display import HTML, display\n",
    "\n",
    "from ipywidgets.embed import embed_minimal_html\n",
    "\n",
    "import ipywidgets as widgets\n",
    "\n",
    "import base64\n",
    "import matplotlib.pyplot as plt\n",
    "\n",
    "%matplotlib"
   ]
  },
  {
   "cell_type": "code",
   "execution_count": 2,
   "metadata": {},
   "outputs": [],
   "source": [
    "googleMapsKeys = pickle.load(open('./googleMapsKey','rb'))\n",
    "#icloudLogin = pickle.load(open('./icloudLogInInformation','rb'))"
   ]
  },
  {
   "cell_type": "code",
   "execution_count": 3,
   "metadata": {},
   "outputs": [],
   "source": [
    "def GetGPSInfo(file):\n",
    "    from PIL import Image\n",
    "    from PIL.ExifTags import TAGS\n",
    "    try:\n",
    "        img = Image.open(file)\n",
    "        info = img._getexif()\n",
    "        exif = {}\n",
    "        for tag, value in info.items():\n",
    "            decoded = TAGS.get(tag, tag)\n",
    "            exif[decoded] = value\n",
    "        exifGPS = exif['GPSInfo']\n",
    "        exifDate = exif['DateTime']\n",
    "        exifDate = datetime.strptime(exifDate, '%Y:%m:%d %H:%M:%S')\n",
    "        exifDate = exifDate.date().strftime('%Y.%m.%d')\n",
    "        latData = exifGPS[2]\n",
    "        lonData = exifGPS[4]\n",
    "        latDeg = latData[0][0] / float(latData[0][1])\n",
    "        latMin = latData[1][0] / float(latData[1][1])\n",
    "        latSec = latData[2][0] / float(latData[2][1])\n",
    "        lonDeg = lonData[0][0] / float(lonData[0][1])\n",
    "        lonMin = lonData[1][0] / float(lonData[1][1])\n",
    "        lonSec = lonData[2][0] / float(lonData[2][1])\n",
    "        # correct the lat/lon based on N/E/W/S\n",
    "        Lat = (latDeg + (latMin + latSec / 60.0) / 60.0)\n",
    "        if exifGPS[1] == 'S': \n",
    "            Lat = Lat * -1\n",
    "        Lon = (lonDeg + (lonMin + lonSec / 60.0) / 60.0)\n",
    "        if exifGPS[3] == 'W': \n",
    "            Lon = Lon * -1\n",
    "        return Lat, Lon, exifDate\n",
    "    except:\n",
    "        pass"
   ]
  },
  {
   "cell_type": "code",
   "execution_count": 4,
   "metadata": {},
   "outputs": [
    {
     "name": "stdout",
     "output_type": "stream",
     "text": [
      "9462\n"
     ]
    }
   ],
   "source": [
    "picturePath = '/Volumes/disk1/Pictures/'\n",
    "fileList = glob(picturePath + '*.jpg')\n",
    "print (len(fileList))"
   ]
  },
  {
   "cell_type": "code",
   "execution_count": 5,
   "metadata": {
    "scrolled": false
   },
   "outputs": [
    {
     "name": "stdout",
     "output_type": "stream",
     "text": [
      "(9268, 3)\n"
     ]
    }
   ],
   "source": [
    "gpsFromPicture = list(map(lambda x: GetGPSInfo(x), fileList))\n",
    "gpsFromPicture = list(filter(None, gpsFromPicture))\n",
    "gpsFromPicture = pd.DataFrame.from_records(gpsFromPicture, columns=['latitude', 'longitude', 'label'])\n",
    "gpsFromPicture.dropna(inplace = True)\n",
    "print (gpsFromPicture.shape)"
   ]
  },
  {
   "cell_type": "code",
   "execution_count": 6,
   "metadata": {},
   "outputs": [
    {
     "data": {
      "text/html": [
       "<div>\n",
       "<style scoped>\n",
       "    .dataframe tbody tr th:only-of-type {\n",
       "        vertical-align: middle;\n",
       "    }\n",
       "\n",
       "    .dataframe tbody tr th {\n",
       "        vertical-align: top;\n",
       "    }\n",
       "\n",
       "    .dataframe thead th {\n",
       "        text-align: right;\n",
       "    }\n",
       "</style>\n",
       "<table border=\"1\" class=\"dataframe\">\n",
       "  <thead>\n",
       "    <tr style=\"text-align: right;\">\n",
       "      <th></th>\n",
       "      <th>latitude</th>\n",
       "      <th>longitude</th>\n",
       "      <th>label</th>\n",
       "    </tr>\n",
       "  </thead>\n",
       "  <tbody>\n",
       "    <tr>\n",
       "      <th>0</th>\n",
       "      <td>46.984464</td>\n",
       "      <td>8.253992</td>\n",
       "      <td>2017.06.13</td>\n",
       "    </tr>\n",
       "    <tr>\n",
       "      <th>1</th>\n",
       "      <td>36.719436</td>\n",
       "      <td>-4.423236</td>\n",
       "      <td>2017.05.28</td>\n",
       "    </tr>\n",
       "    <tr>\n",
       "      <th>2</th>\n",
       "      <td>42.952386</td>\n",
       "      <td>-9.189603</td>\n",
       "      <td>2017.05.07</td>\n",
       "    </tr>\n",
       "    <tr>\n",
       "      <th>3</th>\n",
       "      <td>42.340408</td>\n",
       "      <td>-3.703394</td>\n",
       "      <td>2017.04.18</td>\n",
       "    </tr>\n",
       "    <tr>\n",
       "      <th>4</th>\n",
       "      <td>41.379075</td>\n",
       "      <td>2.174117</td>\n",
       "      <td>2017.06.05</td>\n",
       "    </tr>\n",
       "  </tbody>\n",
       "</table>\n",
       "</div>"
      ],
      "text/plain": [
       "    latitude  longitude       label\n",
       "0  46.984464   8.253992  2017.06.13\n",
       "1  36.719436  -4.423236  2017.05.28\n",
       "2  42.952386  -9.189603  2017.05.07\n",
       "3  42.340408  -3.703394  2017.04.18\n",
       "4  41.379075   2.174117  2017.06.05"
      ]
     },
     "execution_count": 6,
     "metadata": {},
     "output_type": "execute_result"
    }
   ],
   "source": [
    "gpsFromPicture.head()"
   ]
  },
  {
   "cell_type": "code",
   "execution_count": 9,
   "metadata": {},
   "outputs": [],
   "source": [
    "meanLat, meanLon = gpsFromPicture.latitude.mean(), gpsFromPicture.longitude.mean()"
   ]
  },
  {
   "cell_type": "code",
   "execution_count": null,
   "metadata": {
    "scrolled": true
   },
   "outputs": [
    {
     "name": "stdout",
     "output_type": "stream",
     "text": [
      "0\n",
      "2000\n",
      "4000\n",
      "6000\n",
      "8000\n"
     ]
    }
   ],
   "source": [
    "travelmap = folium.Map(location=[meanLat, meanLon], zoom_start=10,\n",
    "                    tiles='OpenStreetMap', control_scale = True)\n",
    "for i in gpsFromPicture.index:\n",
    "    if i % 2000 == 0: print (i)\n",
    "    data = gpsFromPicture.loc[i]\n",
    "    location = [data['latitude'], data['longitude']]\n",
    "    name = data['label']\n",
    "    marker = folium.Marker(location = location, popup = name)\n",
    "    travelmap.add_child(marker)\n",
    "travelmap.save('./test.html')\n",
    "travelmap"
   ]
  },
  {
   "cell_type": "code",
   "execution_count": 11,
   "metadata": {
    "scrolled": true
   },
   "outputs": [
    {
     "data": {
      "application/vnd.jupyter.widget-view+json": {
       "model_id": "17e6576cd58844a68869486ecad6aacb",
       "version_major": 2,
       "version_minor": 0
      },
      "text/html": [
       "<p>Failed to display Jupyter Widget of type <code>Figure</code>.</p>\n",
       "<p>\n",
       "  If you're reading this message in the Jupyter Notebook or JupyterLab Notebook, it may mean\n",
       "  that the widgets JavaScript is still loading. If this message persists, it\n",
       "  likely means that the widgets JavaScript library is either not installed or\n",
       "  not enabled. See the <a href=\"https://ipywidgets.readthedocs.io/en/stable/user_install.html\">Jupyter\n",
       "  Widgets Documentation</a> for setup instructions.\n",
       "</p>\n",
       "<p>\n",
       "  If you're reading this message in another frontend (for example, a static\n",
       "  rendering on GitHub or <a href=\"https://nbviewer.jupyter.org/\">NBViewer</a>),\n",
       "  it may mean that your frontend doesn't currently support widgets.\n",
       "</p>\n"
      ],
      "text/plain": [
       "Figure(layout=FigureLayout(height='420px'))"
      ]
     },
     "metadata": {},
     "output_type": "display_data"
    }
   ],
   "source": [
    "# gmaps\n",
    "gmaps.configure(api_key = googleMapsKeys)\n",
    "mytravelPoints = gpsFromPicture.loc[:,['latitude', 'longitude']]\n",
    "mytravel = gmaps.symbol_layer(mytravelPoints, fill_color='blue', stroke_color = 'blue', scale = 1)\n",
    "fig = gmaps.figure()\n",
    "fig.add_layer(mytravel)\n",
    "fig"
   ]
  },
  {
   "cell_type": "code",
   "execution_count": 29,
   "metadata": {},
   "outputs": [],
   "source": [
    "embed_minimal_html('export.html', views=[fig])"
   ]
  }
 ],
 "metadata": {
  "kernelspec": {
   "display_name": "Python 3",
   "language": "python",
   "name": "python3"
  },
  "language_info": {
   "codemirror_mode": {
    "name": "ipython",
    "version": 3
   },
   "file_extension": ".py",
   "mimetype": "text/x-python",
   "name": "python",
   "nbconvert_exporter": "python",
   "pygments_lexer": "ipython3",
   "version": "3.6.5"
  }
 },
 "nbformat": 4,
 "nbformat_minor": 2
}
